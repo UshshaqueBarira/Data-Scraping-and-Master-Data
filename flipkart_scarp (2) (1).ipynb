{
 "cells": [
  {
   "cell_type": "code",
   "execution_count": 1,
   "id": "7589662c-69e5-45b8-a54d-0549f1959715",
   "metadata": {},
   "outputs": [
    {
     "name": "stdout",
     "output_type": "stream",
     "text": [
      "Collecting BeautifulSoup4\n",
      "  Downloading beautifulsoup4-4.9.3-py3-none-any.whl (115 kB)\n",
      "\u001b[K     |████████████████████████████████| 115 kB 4.8 MB/s eta 0:00:01\n",
      "\u001b[?25hCollecting soupsieve>1.2\n",
      "  Downloading soupsieve-2.2.1-py3-none-any.whl (33 kB)\n",
      "Installing collected packages: soupsieve, BeautifulSoup4\n",
      "Successfully installed BeautifulSoup4-4.9.3 soupsieve-2.2.1\n",
      "Note: you may need to restart the kernel to use updated packages.\n"
     ]
    }
   ],
   "source": [
    "pip install BeautifulSoup4"
   ]
  },
  {
   "cell_type": "code",
   "execution_count": 2,
   "id": "8dc69133-0902-4952-92d2-0b64a4b4591a",
   "metadata": {},
   "outputs": [],
   "source": [
    "import numpy as np\n",
    "import pandas as pd\n",
    "import time\n",
    "import requests\n",
    "from bs4 import BeautifulSoup"
   ]
  },
  {
   "cell_type": "code",
   "execution_count": 82,
   "id": "ca2cf918-2512-419b-b9b1-be014f17e703",
   "metadata": {},
   "outputs": [
    {
     "data": {
      "text/plain": [
       "<Response [200]>"
      ]
     },
     "execution_count": 82,
     "metadata": {},
     "output_type": "execute_result"
    }
   ],
   "source": [
    "page=requests.get('https://www.flipkart.com/search?sid=tyy%2C4io&otracker=CLP_Filters&p%5B%5D=facets.availability%255B%255D%3DExclude%2BOut%2Bof%2BStock&page=89')\n",
    "page"
   ]
  },
  {
   "cell_type": "code",
   "execution_count": 83,
   "id": "4b19ff9b-f294-4c7e-8533-813a61a8f85a",
   "metadata": {},
   "outputs": [],
   "source": [
    "soup=BeautifulSoup(page.content,'html.parser')\n",
    "Mobile_name=(soup.find_all('div',attrs={'class':'_4rR01T'}))\n",
    "Price=(soup.find_all('div',attrs={'class':'_30jeq3 _1_WHN1'}))\n",
    "rating_link=(soup.find_all('div',attrs={'class':'_3LWZlK'}))\n",
    "description=soup.find_all('div',attrs={'class':'fMghEO'})"
   ]
  },
  {
   "cell_type": "code",
   "execution_count": 84,
   "id": "6a0605ab-f3dd-4483-bb8a-32067eeb6559",
   "metadata": {},
   "outputs": [],
   "source": [
    "rating=np.array(rating_link)"
   ]
  },
  {
   "cell_type": "code",
   "execution_count": 85,
   "id": "e51d833d-e108-4d7d-8539-cdbf4b26452c",
   "metadata": {},
   "outputs": [],
   "source": [
    "ratings=[]\n",
    "for i in range(0,len(rating)):\n",
    "    ratings.append(float(rating[i][0]))"
   ]
  },
  {
   "cell_type": "code",
   "execution_count": 86,
   "id": "b80ca78c-a4fc-4d42-a820-729d6866dd33",
   "metadata": {},
   "outputs": [],
   "source": [
    "Mobile_name=np.array(Mobile_name)  \n",
    "len(Mobile_name)\n",
    "MobileName=[]\n",
    "for i in range(0,len(Mobile_name)):\n",
    "       MobileName.append(Mobile_name[i][0])\n"
   ]
  },
  {
   "cell_type": "code",
   "execution_count": 87,
   "id": "c3816ebb-8c8e-41ff-8c49-e038f22a5244",
   "metadata": {},
   "outputs": [],
   "source": [
    "mrp=np.array(Price)\n",
    "price=[]\n",
    "for i in range(0,len(mrp)):\n",
    "    price.append(mrp[i][0])"
   ]
  },
  {
   "cell_type": "code",
   "execution_count": 88,
   "id": "fd4a85c0-74d6-497b-a96f-0e7ede6acb2c",
   "metadata": {},
   "outputs": [],
   "source": [
    "data1=[]\n",
    "for i in range(0,len(mrp)):\n",
    "    data=[MobileName[i],price[i],ratings[i]]\n",
    "    data1.append(data)\n"
   ]
  },
  {
   "cell_type": "code",
   "execution_count": 89,
   "id": "6623476c-81d6-4f6a-9987-50c77d63b81d",
   "metadata": {},
   "outputs": [],
   "source": [
    "flipkart_data=pd.DataFrame(data=data1,columns=['Mobile Name','Price','Ratings'])"
   ]
  },
  {
   "cell_type": "code",
   "execution_count": 62,
   "id": "4cfb3b84-f151-43a0-a4af-0dd7c256d979",
   "metadata": {},
   "outputs": [
    {
     "data": {
      "text/html": [
       "<div>\n",
       "<style scoped>\n",
       "    .dataframe tbody tr th:only-of-type {\n",
       "        vertical-align: middle;\n",
       "    }\n",
       "\n",
       "    .dataframe tbody tr th {\n",
       "        vertical-align: top;\n",
       "    }\n",
       "\n",
       "    .dataframe thead th {\n",
       "        text-align: right;\n",
       "    }\n",
       "</style>\n",
       "<table border=\"1\" class=\"dataframe\">\n",
       "  <thead>\n",
       "    <tr style=\"text-align: right;\">\n",
       "      <th></th>\n",
       "      <th>Mobile Name</th>\n",
       "      <th>Price</th>\n",
       "      <th>Ratings</th>\n",
       "    </tr>\n",
       "  </thead>\n",
       "  <tbody>\n",
       "    <tr>\n",
       "      <th>0</th>\n",
       "      <td>realme 8 (Cyber Black, 128 GB)</td>\n",
       "      <td>₹16,999</td>\n",
       "      <td>4.3</td>\n",
       "    </tr>\n",
       "    <tr>\n",
       "      <th>1</th>\n",
       "      <td>realme 8 (Cyber Black, 128 GB)</td>\n",
       "      <td>₹15,999</td>\n",
       "      <td>4.3</td>\n",
       "    </tr>\n",
       "    <tr>\n",
       "      <th>2</th>\n",
       "      <td>realme 8 (Cyber Silver, 128 GB)</td>\n",
       "      <td>₹16,999</td>\n",
       "      <td>4.3</td>\n",
       "    </tr>\n",
       "    <tr>\n",
       "      <th>3</th>\n",
       "      <td>realme 8 (Cyber Black, 128 GB)</td>\n",
       "      <td>₹17,999</td>\n",
       "      <td>4.3</td>\n",
       "    </tr>\n",
       "    <tr>\n",
       "      <th>4</th>\n",
       "      <td>SAMSUNG Guru FM Plus SM-B110E/D</td>\n",
       "      <td>₹1,450</td>\n",
       "      <td>4.3</td>\n",
       "    </tr>\n",
       "    <tr>\n",
       "      <th>5</th>\n",
       "      <td>Infinix Hot 10S (Morandi Green, 64 GB)</td>\n",
       "      <td>₹10,999</td>\n",
       "      <td>4.2</td>\n",
       "    </tr>\n",
       "    <tr>\n",
       "      <th>6</th>\n",
       "      <td>POCO M3 Pro 5G (Cool Blue, 64 GB)</td>\n",
       "      <td>₹13,999</td>\n",
       "      <td>4.2</td>\n",
       "    </tr>\n",
       "    <tr>\n",
       "      <th>7</th>\n",
       "      <td>Itel Magic2 4G( WiFi,Hotspot Tethering)</td>\n",
       "      <td>₹2,425</td>\n",
       "      <td>3.9</td>\n",
       "    </tr>\n",
       "    <tr>\n",
       "      <th>8</th>\n",
       "      <td>LAVA GEM</td>\n",
       "      <td>₹1,749</td>\n",
       "      <td>4.2</td>\n",
       "    </tr>\n",
       "    <tr>\n",
       "      <th>9</th>\n",
       "      <td>Infinix Note 10 (95° Black, 128 GB)</td>\n",
       "      <td>₹12,499</td>\n",
       "      <td>4.2</td>\n",
       "    </tr>\n",
       "    <tr>\n",
       "      <th>10</th>\n",
       "      <td>Infinix Note 10 (7° Purple, 128 GB)</td>\n",
       "      <td>₹12,499</td>\n",
       "      <td>4.2</td>\n",
       "    </tr>\n",
       "    <tr>\n",
       "      <th>11</th>\n",
       "      <td>Infinix Note 10 (Emerald Green, 128 GB)</td>\n",
       "      <td>₹12,499</td>\n",
       "      <td>4.2</td>\n",
       "    </tr>\n",
       "    <tr>\n",
       "      <th>12</th>\n",
       "      <td>SAMSUNG Guru FM Plus</td>\n",
       "      <td>₹1,660</td>\n",
       "      <td>4.2</td>\n",
       "    </tr>\n",
       "    <tr>\n",
       "      <th>13</th>\n",
       "      <td>SAMSUNG Guru 1200</td>\n",
       "      <td>₹1,200</td>\n",
       "      <td>4.3</td>\n",
       "    </tr>\n",
       "    <tr>\n",
       "      <th>14</th>\n",
       "      <td>APPLE iPhone SE (Black, 128 GB)</td>\n",
       "      <td>₹36,999</td>\n",
       "      <td>4.5</td>\n",
       "    </tr>\n",
       "    <tr>\n",
       "      <th>15</th>\n",
       "      <td>vivo Y20A 2021 (Nebula Blue, 64 GB)</td>\n",
       "      <td>₹11,990</td>\n",
       "      <td>4.3</td>\n",
       "    </tr>\n",
       "    <tr>\n",
       "      <th>16</th>\n",
       "      <td>REDMI 9 Power (Fiery Red, 128 GB)</td>\n",
       "      <td>₹13,499</td>\n",
       "      <td>4.3</td>\n",
       "    </tr>\n",
       "    <tr>\n",
       "      <th>17</th>\n",
       "      <td>Nokia 105 DS 2020</td>\n",
       "      <td>₹1,414</td>\n",
       "      <td>4.2</td>\n",
       "    </tr>\n",
       "    <tr>\n",
       "      <th>18</th>\n",
       "      <td>KARBONN X21 (Midnight Blue, 32 GB)</td>\n",
       "      <td>₹4,999</td>\n",
       "      <td>3.9</td>\n",
       "    </tr>\n",
       "    <tr>\n",
       "      <th>19</th>\n",
       "      <td>SAMSUNG Galaxy F41 (Fusion Black, 128 GB)</td>\n",
       "      <td>₹14,499</td>\n",
       "      <td>4.3</td>\n",
       "    </tr>\n",
       "    <tr>\n",
       "      <th>20</th>\n",
       "      <td>Itel Ace</td>\n",
       "      <td>₹775</td>\n",
       "      <td>4.0</td>\n",
       "    </tr>\n",
       "    <tr>\n",
       "      <th>21</th>\n",
       "      <td>Itel Ace</td>\n",
       "      <td>₹898</td>\n",
       "      <td>4.0</td>\n",
       "    </tr>\n",
       "    <tr>\n",
       "      <th>22</th>\n",
       "      <td>realme Narzo 30 Pro 5G (Sword Black, 64 GB)</td>\n",
       "      <td>₹16,999</td>\n",
       "      <td>4.3</td>\n",
       "    </tr>\n",
       "    <tr>\n",
       "      <th>23</th>\n",
       "      <td>realme Narzo 30 Pro 5G (Blade Silver, 64 GB)</td>\n",
       "      <td>₹16,999</td>\n",
       "      <td>4.3</td>\n",
       "    </tr>\n",
       "  </tbody>\n",
       "</table>\n",
       "</div>"
      ],
      "text/plain": [
       "                                     Mobile Name    Price  Ratings\n",
       "0                 realme 8 (Cyber Black, 128 GB)  ₹16,999      4.3\n",
       "1                 realme 8 (Cyber Black, 128 GB)  ₹15,999      4.3\n",
       "2                realme 8 (Cyber Silver, 128 GB)  ₹16,999      4.3\n",
       "3                 realme 8 (Cyber Black, 128 GB)  ₹17,999      4.3\n",
       "4                SAMSUNG Guru FM Plus SM-B110E/D   ₹1,450      4.3\n",
       "5         Infinix Hot 10S (Morandi Green, 64 GB)  ₹10,999      4.2\n",
       "6              POCO M3 Pro 5G (Cool Blue, 64 GB)  ₹13,999      4.2\n",
       "7        Itel Magic2 4G( WiFi,Hotspot Tethering)   ₹2,425      3.9\n",
       "8                                       LAVA GEM   ₹1,749      4.2\n",
       "9            Infinix Note 10 (95° Black, 128 GB)  ₹12,499      4.2\n",
       "10           Infinix Note 10 (7° Purple, 128 GB)  ₹12,499      4.2\n",
       "11       Infinix Note 10 (Emerald Green, 128 GB)  ₹12,499      4.2\n",
       "12                          SAMSUNG Guru FM Plus   ₹1,660      4.2\n",
       "13                             SAMSUNG Guru 1200   ₹1,200      4.3\n",
       "14               APPLE iPhone SE (Black, 128 GB)  ₹36,999      4.5\n",
       "15           vivo Y20A 2021 (Nebula Blue, 64 GB)  ₹11,990      4.3\n",
       "16             REDMI 9 Power (Fiery Red, 128 GB)  ₹13,499      4.3\n",
       "17                             Nokia 105 DS 2020   ₹1,414      4.2\n",
       "18            KARBONN X21 (Midnight Blue, 32 GB)   ₹4,999      3.9\n",
       "19     SAMSUNG Galaxy F41 (Fusion Black, 128 GB)  ₹14,499      4.3\n",
       "20                                      Itel Ace     ₹775      4.0\n",
       "21                                      Itel Ace     ₹898      4.0\n",
       "22   realme Narzo 30 Pro 5G (Sword Black, 64 GB)  ₹16,999      4.3\n",
       "23  realme Narzo 30 Pro 5G (Blade Silver, 64 GB)  ₹16,999      4.3"
      ]
     },
     "execution_count": 62,
     "metadata": {},
     "output_type": "execute_result"
    }
   ],
   "source": [
    "flipkart_data"
   ]
  },
  {
   "cell_type": "code",
   "execution_count": 90,
   "id": "fbc5212a-3b93-4c4d-bf95-e02b07810322",
   "metadata": {},
   "outputs": [],
   "source": [
    "flipkart_data.to_csv(r'C:\\Users\\bushshaq\\OneDrive - Genesys Telecommunications Laboratories, Inc\\Desktop\\Flipkart_mobiles_data_9.csv',index=False)"
   ]
  }
 ],
 "metadata": {
  "kernelspec": {
   "display_name": "Python 3",
   "language": "python",
   "name": "python3"
  },
  "language_info": {
   "codemirror_mode": {
    "name": "ipython",
    "version": 3
   },
   "file_extension": ".py",
   "mimetype": "text/x-python",
   "name": "python",
   "nbconvert_exporter": "python",
   "pygments_lexer": "ipython3",
   "version": "3.7.8"
  }
 },
 "nbformat": 4,
 "nbformat_minor": 5
}
